{
  "nbformat": 4,
  "nbformat_minor": 0,
  "metadata": {
    "colab": {
      "name": "Final version of Arithmetic code (Encoder & Decoder).ipynb",
      "provenance": []
    },
    "kernelspec": {
      "name": "python3",
      "display_name": "Python 3"
    }
  },
  "cells": [
    {
      "cell_type": "code",
      "metadata": {
        "id": "BWIjoiojvsKc",
        "colab_type": "code",
        "colab": {}
      },
      "source": [
        "from collections import defaultdict\n",
        "from fractions import Fraction\n",
        "import numpy as np"
      ],
      "execution_count": 0,
      "outputs": []
    },
    {
      "cell_type": "markdown",
      "metadata": {
        "id": "d7vs0u64lGTM",
        "colab_type": "text"
      },
      "source": [
        "## **Arithmatic Encoder:**"
      ]
    },
    {
      "cell_type": "code",
      "metadata": {
        "id": "GrjL8BdMllaB",
        "colab_type": "code",
        "colab": {}
      },
      "source": [
        "# make frequency table ( calculate the probabilty of each symbol that repreasents the width ,and the probabilty that represents the start of each symbol range)\n",
        "# inputs: the input sequence\n",
        "# output: 1.prob_table....> it is a dictionary contains the probability of each symbol onle\n",
        "#         2.prob_pairs_dic....> it is a dictionary contains the cumulitive probability of each symbol(the start of its range) and the probability of it.\n",
        "#       * the two outputs are used in the code\n",
        "# how it works:  it counts the no. of occurence of each symbol using \"defultdict\" and divide it by the length of the sequence.   \n",
        "def calculate_prob(input_symbols):\n",
        "  counts = defaultdict(int)\n",
        "  for symbol in input_symbols:\n",
        "        counts[symbol] += 1\n",
        "               \n",
        "  prob_table = dict()\n",
        "  length = len(input_symbols)\n",
        "  total_count = 0\n",
        "  prob_pairs_dic = dict()\n",
        "  for s in sorted(counts, key=counts.get, reverse=True):\n",
        "        current_count = counts[s]\n",
        "        prob_pairs_dic[s] =  Fraction(total_count, length), Fraction(current_count, length)         # dict contain the two values(start, width)    \n",
        "        prob_table[s] = Fraction(current_count, length)                                             # dict contains width only\n",
        "        total_count += current_count\n",
        "\n",
        "  return prob_table , prob_pairs_dic\n",
        "\n",
        "\n"
      ],
      "execution_count": 0,
      "outputs": []
    },
    {
      "cell_type": "code",
      "metadata": {
        "id": "r54teWDn5QIK",
        "colab_type": "code",
        "colab": {}
      },
      "source": [
        "# encode the symbol range into bits\n",
        "# input: 1)lb: lower bound of the scale and it sets to \"0\" at the beginning.\n",
        "#        2)ub: upper bound of the scale  and it sets to \"1\" at the beginning.\n",
        "#        3)curr_lb: lower bound of the symbol range.\n",
        "#        4)curr_ub: upper bound of the symbol range.\n",
        "#        5)value: 0 or 1 bit according to the range of the symbol.\n",
        "# output: code: the encoded bits of the input.\n",
        "# how it works: it search for the section where the symbol exsist using its range and repeat the process till reach the specific range.\n",
        "def get_binary(lb,ub,curr_lb,curr_ub,value):\n",
        "    \n",
        "    mid = (lb+ub)/2\n",
        "    if((curr_lb <= lb) and  (curr_ub >= ub)):\n",
        "        \n",
        "        return value\n",
        "                    \n",
        "        exit()\n",
        "    else:\n",
        "        if((curr_lb > mid) and (curr_ub < ub)):\n",
        "            value.append(1)                 # the symbol range over the mid \n",
        "            return get_binary(mid,ub,curr_lb,curr_ub,value)\n",
        "            \n",
        "\n",
        "        elif ((curr_ub < mid) and (curr_lb > lb)  ): \n",
        "            value.append(0)                           # the symbol range below the mid\n",
        "            return get_binary(lb, mid, curr_lb, curr_ub, value)\n",
        "            \n",
        "\n",
        "        elif((curr_lb > lb ) and (curr_ub > mid)):          # the symbol upper range over thr mid and the symbol lower ranger under the mid\n",
        "            value.append(1)\n",
        "            return get_binary(mid,ub, curr_lb, curr_ub,value )\n",
        "           \n",
        "   \n",
        "        else: \n",
        "            value.append(0)                                                            # the symbol upper range > upper range  or symbol lower range < lower range\n",
        "            return get_binary(lb,mid,curr_lb,curr_ub, value)\n",
        "            \n",
        "\n",
        "    \n",
        "    "
      ],
      "execution_count": 0,
      "outputs": []
    },
    {
      "cell_type": "code",
      "metadata": {
        "id": "9MoTqFE3-P8l",
        "colab_type": "code",
        "colab": {}
      },
      "source": [
        "# get the decimal range of the sequence\n",
        "#input: 1)lb: lower bound of the scale and it sets to \"0\" at the beginning.\n",
        "#       2)ub: upper bound of the scale and it sets to \"1\" at the beginning. \n",
        "#       3)index: the index of the symbols in the sequence and it sets to \"0\" at the beginning.\n",
        "#       4)prob_table: probability of each symbol.\n",
        "#       5) seq:  the input sequence\n",
        "#       6) x: encoded bits\n",
        "# how it works: it searches for the range of the symbol in the prob_table and repeat the process till the last symbol then pass the final ranges to \"get_binary\" function to encode it.\n",
        "def get_range(lb,ub,index,prob_table,seq):\n",
        "    if (index == len(seq)):\n",
        "        Interval = [lb,ub]\n",
        "        print(\"Interval =[\" + str(lb) + \",\" + str(ub) + \"]\")        # Printing the Interval\n",
        "        curr_lb = lb\n",
        "        curr_ub = ub\n",
        "        value = []\n",
        "        x = get_binary(0, 1,curr_lb,curr_ub,value)    # function call for encoding the interval\n",
        "        return x      \n",
        "                             \n",
        "    else:\n",
        "      dataSymbol = seq[index]\n",
        "      lenRange =ub-lb\n",
        "    \n",
        "      for sym in prob_table:\n",
        "        if(sym==dataSymbol):\n",
        "            \n",
        "            return get_range(lb,lb+(prob_table.get(sym)*lenRange),index+1,prob_table,seq)\n",
        "        else:\n",
        "            lb = lb+(prob_table.get(sym) *lenRange)\n",
        "\n",
        "    "
      ],
      "execution_count": 0,
      "outputs": []
    },
    {
      "cell_type": "code",
      "metadata": {
        "id": "kKxSBW2a_xAh",
        "colab_type": "code",
        "colab": {}
      },
      "source": [
        "# main function for encoder:\n",
        "# input: input sequence\n",
        "# output:1)prob_pairs: table of probabilities that contains the start and the width of each symbol. (it will be passed to the decoder)\n",
        "#        2)coded_out: encoded bits\n",
        "# how it works: it calls the functions \" calculate_prob\" and \"get_range\"\n",
        "def Arithm_encoder(seq):\n",
        "  \n",
        "  seq = np.append(seq,[256]) \n",
        "  # make the probability table for this sequence\n",
        "  prob_table, prob_pairs = calculate_prob(seq)\n",
        "  \n",
        "  # Apply the arithmatic alogrithm\n",
        "  coded_out = get_range(0,1,0,prob_table,seq)\n",
        "\n",
        "\n",
        "  return prob_pairs, coded_out\n",
        "\n"
      ],
      "execution_count": 0,
      "outputs": []
    },
    {
      "cell_type": "code",
      "metadata": {
        "id": "xAcuSMxY9yah",
        "colab_type": "code",
        "outputId": "640e7e5a-05c6-4dc7-f920-7ae03fe13f59",
        "colab": {
          "base_uri": "https://localhost:8080/",
          "height": 87
        }
      },
      "source": [
        "# main to test the encoder function\n",
        "\n",
        "sequence = np.array([1,2,1,2,3,5,8,7,5,4])\n",
        "p,c = Arithm_encoder(sequence)           # data type of p....> dic    and data type of c.....> list\n",
        "\n",
        "print(p)        \n",
        "print(c)"
      ],
      "execution_count": 0,
      "outputs": [
        {
          "output_type": "stream",
          "text": [
            "Interval =[9927605404/285311670611,902509588/25937424601]\n",
            "{1: (Fraction(0, 1), Fraction(2, 11)), 2: (Fraction(2, 11), Fraction(2, 11)), 5: (Fraction(4, 11), Fraction(2, 11)), 3: (Fraction(6, 11), Fraction(1, 11)), 8: (Fraction(7, 11), Fraction(1, 11)), 7: (Fraction(8, 11), Fraction(1, 11)), 4: (Fraction(9, 11), Fraction(1, 11)), 256: (Fraction(10, 11), Fraction(1, 11))}\n",
            "[0, 0, 0, 0, 1, 0, 0, 0, 1, 1, 1, 0, 1, 0, 0, 0, 0, 1, 0, 1, 1, 1, 1, 0, 0, 0, 1, 0, 1, 0, 0, 1, 0, 0]\n"
          ],
          "name": "stdout"
        }
      ]
    },
    {
      "cell_type": "markdown",
      "metadata": {
        "id": "qHwkNVqtBKuB",
        "colab_type": "text"
      },
      "source": [
        "# **Arithmatic Decoder :**"
      ]
    },
    {
      "cell_type": "code",
      "metadata": {
        "id": "t9Eb-m5EBdN1",
        "colab_type": "code",
        "colab": {}
      },
      "source": [
        "# convert the binary code into decimal fraction                                         side note for me:( index return the first occurance only)\n",
        "# input: encoded bits ( the output of the encoder)     \n",
        "# output: the float number that represents the input bits\n",
        "# how it works: it does the converstion using the equation:  d = 1*2^(-1) + 0*2^(-2) + .......       for code = 10....           \n",
        "def binary_to_decimal(code):\n",
        "  decimal = 0\n",
        "  for i, c in enumerate(code):\n",
        "    decimal += c*(2**(-(i+1)))\n",
        "    \n",
        "\n",
        "  return decimal \n"
      ],
      "execution_count": 0,
      "outputs": []
    },
    {
      "cell_type": "code",
      "metadata": {
        "id": "etW9rZixHtvp",
        "colab_type": "code",
        "colab": {}
      },
      "source": [
        "  # get the original sequence.\n",
        "  #input:1)decimal: it is the float number that represent the coded bits.\n",
        "  #      2)prob_ranges: it is the probability table that passed from the encoder.\n",
        "  # how it works: it take the decimal number and search for its range in the table and emits the symboles while searching till reach the EOF symbol.  ( 256 in this code ) \n",
        "  def decode_decimal(decimal, prob_ranges):\n",
        "    output = []\n",
        "    code = 257\n",
        "\n",
        "    while code != 256:\n",
        "        for code, (start, width) in prob_ranges.items():\n",
        "            if 0 <= (decimal - start) < width:\n",
        "                decimal = (decimal - start) / width\n",
        "\n",
        "                if code < 256:\n",
        "                    output.append(code)\n",
        "                break\n",
        "\n",
        "    return output"
      ],
      "execution_count": 0,
      "outputs": []
    },
    {
      "cell_type": "code",
      "metadata": {
        "id": "nysg06tZb-j1",
        "colab_type": "code",
        "colab": {}
      },
      "source": [
        "# main function for decoder.\n",
        "# input:1) code: the encoded bits from the encoder.\n",
        "#       2) probs: it is the probability table that passed from the encoder.\n",
        "# output: original_s : it is the original sequence.\n",
        "# how it works: it calls the functions: \"binary_to_decimal\" & \"decode_decimal\"\n",
        "def Arithm_decoder(code,probs):\n",
        "\n",
        "  float_no = binary_to_decimal(code)\n",
        "  original_s = decode_decimal(float_no,probs)\n",
        "  return original_s\n"
      ],
      "execution_count": 0,
      "outputs": []
    },
    {
      "cell_type": "code",
      "metadata": {
        "id": "EOgUQMpPBALA",
        "colab_type": "code",
        "outputId": "311009f3-5d81-46fa-f1b8-e523fb3a6ed5",
        "colab": {
          "base_uri": "https://localhost:8080/",
          "height": 34
        }
      },
      "source": [
        "# main to test  decoder.\n",
        "code = c     # from encoder\n",
        "prob = p     # from encoder\n",
        "out = Arithm_decoder(c,p)\n",
        "print(out)"
      ],
      "execution_count": 0,
      "outputs": [
        {
          "output_type": "stream",
          "text": [
            "[1, 2, 1, 2, 3, 5, 8, 7, 5, 4]\n"
          ],
          "name": "stdout"
        }
      ]
    }
  ]
}